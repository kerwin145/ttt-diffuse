{
 "cells": [
  {
   "cell_type": "code",
   "execution_count": 4,
   "id": "175efdef",
   "metadata": {},
   "outputs": [
    {
     "name": "stdout",
     "output_type": "stream",
     "text": [
      "Using device: cuda\n"
     ]
    }
   ],
   "source": [
    "import torch\n",
    "import torch.nn as nn\n",
    "import torch.optim as optim\n",
    "from torch.utils.data import Dataset, DataLoader\n",
    "import numpy as np\n",
    "import os\n",
    "from tqdm import tqdm\n",
    "from os.path import join as pjoin\n",
    "import random\n",
    "import sys # For error exit\n",
    "\n",
    "# --- Configuration ---\n",
    "POSE_FEATURES_DIM = 263  # Original dimension\n",
    "LATENT_DIM = 64          # Target latent dimension (Hyperparameter to tune!)\n",
    "LEARNING_RATE = 1e-4\n",
    "WEIGHT_DECAY = 1e-5\n",
    "BATCH_SIZE = 128         # Adjust based on GPU memory\n",
    "EPOCHS = 100             # Adjust as needed\n",
    "DATA_DIR = \"..\\\\HumanML3D\" # Directory containing new_joint_vecs and train/val lists\n",
    "SAVE_DIR = \"model_saves/autoencoder\" # Directory to save checkpoints\n",
    "MODEL_NAME = \"pose_ae\" # Base name for saved files\n",
    "NORMALIZATION_STATS_PATH = \"pose_stats.npz\" # Path to your mean/std file\n",
    "VAL_SETTING = \"val\"      # Assumes you have 'val.txt' for validation\n",
    "TRAIN_SETTING = \"train\"  # Assumes you have 'train.txt'\n",
    "USE_PERCENTAGE = 1.0     # Use 100% of train/val data listed\n",
    "\n",
    "device = torch.device(\"cuda\" if torch.cuda.is_available() else \"cpu\")\n",
    "print(f\"Using device: {device}\")\n",
    "\n",
    "# Ensure save directory exists\n",
    "os.makedirs(SAVE_DIR, exist_ok=True)\n",
    "BEST_MODEL_SAVE_PATH = pjoin(SAVE_DIR, f\"{MODEL_NAME}_best.pth\")\n",
    "FINAL_MODEL_SAVE_PATH = pjoin(SAVE_DIR, f\"{MODEL_NAME}_final.pth\")\n"
   ]
  },
  {
   "cell_type": "code",
   "execution_count": 5,
   "id": "f6bb7c13",
   "metadata": {},
   "outputs": [],
   "source": [
    "\n",
    "# --- Autoencoder Model ---\n",
    "class Encoder(nn.Module):\n",
    "    def __init__(self, input_dim, latent_dim):\n",
    "        super().__init__()\n",
    "        self.net = nn.Sequential(\n",
    "            nn.Linear(input_dim, 256),\n",
    "            nn.ReLU(),\n",
    "            nn.Linear(256, 128),\n",
    "            nn.ReLU(),\n",
    "            nn.Linear(128, latent_dim)\n",
    "        )\n",
    "    def forward(self, x):\n",
    "        return self.net(x)\n",
    "\n",
    "class Decoder(nn.Module):\n",
    "    def __init__(self, latent_dim, output_dim):\n",
    "        super().__init__()\n",
    "        self.net = nn.Sequential(\n",
    "            nn.Linear(latent_dim, 128),\n",
    "            nn.ReLU(),\n",
    "            nn.Linear(128, 256),\n",
    "            nn.ReLU(),\n",
    "            nn.Linear(256, output_dim)\n",
    "        )\n",
    "    def forward(self, x):\n",
    "        return self.net(x)\n",
    "\n",
    "class Autoencoder(nn.Module):\n",
    "    def __init__(self, input_dim, latent_dim):\n",
    "        super().__init__()\n",
    "        self.encoder = Encoder(input_dim, latent_dim)\n",
    "        self.decoder = Decoder(latent_dim, input_dim)\n",
    "\n",
    "    def forward(self, x):\n",
    "        latent = self.encoder(x)\n",
    "        reconstruction = self.decoder(latent)\n",
    "        return reconstruction\n",
    "\n",
    "# --- Dataset ---\n",
    "class PoseDatasetAE(Dataset):\n",
    "    def __init__(self, data_dir, setting, norm_stats_path, use_percentage=1.0):\n",
    "        self.data_dir = data_dir\n",
    "        pose_vec_dir = pjoin(data_dir, \"new_joint_vecs\")\n",
    "        self.pose_files = []\n",
    "        self.mean = None\n",
    "        self.std = None\n",
    "\n",
    "        list_file_path = pjoin(data_dir, f\"{setting}.txt\")\n",
    "        if not os.path.exists(list_file_path):\n",
    "             print(f\"Error: List file not found at {list_file_path}\")\n",
    "             # Depending on required functionality, either raise error or try fallback\n",
    "             raise FileNotFoundError(f\"Required list file missing: {list_file_path}\")\n",
    "             # Or try fallback:\n",
    "             # print(f\"Warning: {list_file_path} not found. Trying train.txt\")\n",
    "             # list_file_path = pjoin(data_dir, \"train.txt\")\n",
    "\n",
    "        with open(list_file_path, \"r\") as f:\n",
    "            file_list = [line.strip() for line in f.readlines()]\n",
    "\n",
    "        print(f\"Found {len(file_list)} entries in {setting}.txt\")\n",
    "\n",
    "        valid_files_count = 0\n",
    "        for file_id in file_list:\n",
    "             pose_path = pjoin(pose_vec_dir, f\"{file_id}.npy\")\n",
    "             if os.path.exists(pose_path): # Check if file actually exists\n",
    "                 self.pose_files.append(pose_path)\n",
    "                 valid_files_count += 1\n",
    "             else:\n",
    "                 print(f\"Warning: Pose file not found for ID {file_id} at {pose_path}\")\n",
    "\n",
    "        print(f\"Found {valid_files_count} existing pose files for {setting}.\")\n",
    "        if valid_files_count == 0:\n",
    "            raise ValueError(f\"No valid pose files found for setting '{setting}'. Check paths.\")\n",
    "\n",
    "\n",
    "        if 0 < use_percentage < 1.0:\n",
    "            random.shuffle(self.pose_files)\n",
    "            num_samples = int(len(self.pose_files) * use_percentage)\n",
    "            self.pose_files = self.pose_files[:num_samples]\n",
    "            print(f\"Using {len(self.pose_files)} files ({use_percentage*100:.1f}%) for {setting}.\")\n",
    "\n",
    "\n",
    "        # Load normalization stats\n",
    "        try:\n",
    "            stats = np.load(norm_stats_path)\n",
    "            self.mean = torch.tensor(stats['mean'], dtype=torch.float32).unsqueeze(0) # (1, D)\n",
    "            self.std = torch.tensor(stats['std'], dtype=torch.float32).unsqueeze(0)   # (1, D)\n",
    "            # Add epsilon to std to prevent division by zero or large values\n",
    "            self.std = torch.where(self.std < 1e-6, torch.tensor(1e-6, dtype=torch.float32), self.std)\n",
    "            print(f\"Normalization stats loaded from {norm_stats_path}\")\n",
    "        except FileNotFoundError:\n",
    "            print(f\"Error: Normalization file not found at {norm_stats_path}\")\n",
    "            print(\"Cannot proceed without normalization stats.\")\n",
    "            sys.exit(1) # Exit if stats are missing\n",
    "\n",
    "    def __len__(self):\n",
    "        return len(self.pose_files)\n",
    "\n",
    "    def __getitem__(self, index):\n",
    "        pose_path = self.pose_files[index]\n",
    "        try:\n",
    "            # Ensure file exists right before loading (paranoia check)\n",
    "            if not os.path.exists(pose_path):\n",
    "                 print(f\"Error: File disappeared before loading? {pose_path}\")\n",
    "                 return None\n",
    "            pose_data = np.load(pose_path) # Shape: (frames, features)\n",
    "            # Basic check for valid data (e.g., not empty)\n",
    "            if pose_data.shape[0] == 0 or pose_data.shape[1] != POSE_FEATURES_DIM:\n",
    "                 print(f\"Warning: Invalid shape {pose_data.shape} in {pose_path}. Skipping.\")\n",
    "                 return None\n",
    "        except Exception as e:\n",
    "            print(f\"Error loading or validating {pose_path}: {e}\")\n",
    "            return None # Handle potential loading errors in collate_fn\n",
    "\n",
    "        pose_tensor = torch.tensor(pose_data, dtype=torch.float32)\n",
    "\n",
    "        # Normalize\n",
    "        pose_normalized = (pose_tensor - self.mean) / self.std\n",
    "\n",
    "        return pose_normalized # Return the whole sequence\n",
    "\n",
    "# --- Custom Collate Function ---\n",
    "def collate_ae(batch):\n",
    "    # Filter out None items resulting from loading errors or invalid shapes\n",
    "    batch = [item for item in batch if item is not None and item.ndim == 2 and item.shape[0] > 0]\n",
    "    if not batch:\n",
    "        return None\n",
    "    # Concatenate all frames from the batch sequences\n",
    "    try:\n",
    "        all_frames = torch.cat(batch, dim=0) # Shape: (total_frames_in_batch, features)\n",
    "    except Exception as e:\n",
    "        print(f\"Error during concatenation: {e}\")\n",
    "        # Optionally print shapes of items in batch for debugging\n",
    "        # for i, item in enumerate(batch): print(f\"Item {i} shape: {item.shape}\")\n",
    "        return None\n",
    "    return all_frames"
   ]
  },
  {
   "cell_type": "code",
   "execution_count": null,
   "id": "cb51e09a",
   "metadata": {},
   "outputs": [
    {
     "name": "stdout",
     "output_type": "stream",
     "text": [
      "Found 23384 entries in train.txt\n",
      "Found 23384 existing pose files for train.\n",
      "Normalization stats loaded from pose_stats.npz\n",
      "Found 1460 entries in val.txt\n",
      "Found 1460 existing pose files for val.\n",
      "Normalization stats loaded from pose_stats.npz\n",
      "Starting Autoencoder Training...\n"
     ]
    },
    {
     "name": "stderr",
     "output_type": "stream",
     "text": [
      "                                                                                     \r"
     ]
    },
    {
     "name": "stdout",
     "output_type": "stream",
     "text": [
      "Epoch 1/100 -> Train Loss: 0.802107, Val Loss: 0.540647\n",
      "    -> New best validation loss (0.540647). Saved best model checkpoint.\n"
     ]
    },
    {
     "name": "stderr",
     "output_type": "stream",
     "text": [
      "                                                                                     \r"
     ]
    },
    {
     "name": "stdout",
     "output_type": "stream",
     "text": [
      "Epoch 2/100 -> Train Loss: 0.451959, Val Loss: 0.397321\n",
      "    -> New best validation loss (0.397321). Saved best model checkpoint.\n"
     ]
    },
    {
     "name": "stderr",
     "output_type": "stream",
     "text": [
      "                                                                                     \r"
     ]
    },
    {
     "name": "stdout",
     "output_type": "stream",
     "text": [
      "Epoch 3/100 -> Train Loss: 0.363768, Val Loss: 0.335546\n",
      "    -> New best validation loss (0.335546). Saved best model checkpoint.\n"
     ]
    },
    {
     "name": "stderr",
     "output_type": "stream",
     "text": [
      "                                                                                     \r"
     ]
    },
    {
     "name": "stdout",
     "output_type": "stream",
     "text": [
      "Epoch 4/100 -> Train Loss: 0.313310, Val Loss: 0.296996\n",
      "    -> New best validation loss (0.296996). Saved best model checkpoint.\n"
     ]
    },
    {
     "name": "stderr",
     "output_type": "stream",
     "text": [
      "                                                                                     \r"
     ]
    },
    {
     "name": "stdout",
     "output_type": "stream",
     "text": [
      "Epoch 5/100 -> Train Loss: 0.285561, Val Loss: 0.274080\n",
      "    -> New best validation loss (0.274080). Saved best model checkpoint.\n"
     ]
    },
    {
     "name": "stderr",
     "output_type": "stream",
     "text": [
      "                                                                                     \r"
     ]
    },
    {
     "name": "stdout",
     "output_type": "stream",
     "text": [
      "Epoch 6/100 -> Train Loss: 0.263895, Val Loss: 0.253503\n",
      "    -> New best validation loss (0.253503). Saved best model checkpoint.\n"
     ]
    },
    {
     "name": "stderr",
     "output_type": "stream",
     "text": [
      "                                                                                     \r"
     ]
    },
    {
     "name": "stdout",
     "output_type": "stream",
     "text": [
      "Epoch 7/100 -> Train Loss: 0.244213, Val Loss: 0.235377\n",
      "    -> New best validation loss (0.235377). Saved best model checkpoint.\n"
     ]
    },
    {
     "name": "stderr",
     "output_type": "stream",
     "text": [
      "                                                                                     \r"
     ]
    },
    {
     "name": "stdout",
     "output_type": "stream",
     "text": [
      "Epoch 8/100 -> Train Loss: 0.227789, Val Loss: 0.220326\n",
      "    -> New best validation loss (0.220326). Saved best model checkpoint.\n"
     ]
    },
    {
     "name": "stderr",
     "output_type": "stream",
     "text": [
      "                                                                                     \r"
     ]
    },
    {
     "name": "stdout",
     "output_type": "stream",
     "text": [
      "Epoch 9/100 -> Train Loss: 0.214203, Val Loss: 0.208060\n",
      "    -> New best validation loss (0.208060). Saved best model checkpoint.\n"
     ]
    },
    {
     "name": "stderr",
     "output_type": "stream",
     "text": [
      "                                                                                      \r"
     ]
    },
    {
     "name": "stdout",
     "output_type": "stream",
     "text": [
      "Epoch 10/100 -> Train Loss: 0.202934, Val Loss: 0.198075\n",
      "    -> New best validation loss (0.198075). Saved best model checkpoint.\n"
     ]
    },
    {
     "name": "stderr",
     "output_type": "stream",
     "text": [
      "                                                                                      \r"
     ]
    },
    {
     "name": "stdout",
     "output_type": "stream",
     "text": [
      "Epoch 11/100 -> Train Loss: 0.193150, Val Loss: 0.187675\n",
      "    -> New best validation loss (0.187675). Saved best model checkpoint.\n"
     ]
    },
    {
     "name": "stderr",
     "output_type": "stream",
     "text": [
      "                                                                                      \r"
     ]
    },
    {
     "name": "stdout",
     "output_type": "stream",
     "text": [
      "Epoch 12/100 -> Train Loss: 0.184168, Val Loss: 0.179468\n",
      "    -> New best validation loss (0.179468). Saved best model checkpoint.\n"
     ]
    },
    {
     "name": "stderr",
     "output_type": "stream",
     "text": [
      "                                                                                      \r"
     ]
    },
    {
     "name": "stdout",
     "output_type": "stream",
     "text": [
      "Epoch 13/100 -> Train Loss: 0.176618, Val Loss: 0.172825\n",
      "    -> New best validation loss (0.172825). Saved best model checkpoint.\n"
     ]
    },
    {
     "name": "stderr",
     "output_type": "stream",
     "text": [
      "                                                                                      \r"
     ]
    },
    {
     "name": "stdout",
     "output_type": "stream",
     "text": [
      "Epoch 14/100 -> Train Loss: 0.170519, Val Loss: 0.166938\n",
      "    -> New best validation loss (0.166938). Saved best model checkpoint.\n"
     ]
    },
    {
     "name": "stderr",
     "output_type": "stream",
     "text": [
      "                                                                                      \r"
     ]
    },
    {
     "name": "stdout",
     "output_type": "stream",
     "text": [
      "Epoch 15/100 -> Train Loss: 0.165205, Val Loss: 0.162087\n",
      "    -> New best validation loss (0.162087). Saved best model checkpoint.\n"
     ]
    },
    {
     "name": "stderr",
     "output_type": "stream",
     "text": [
      "                                                                                      \r"
     ]
    },
    {
     "name": "stdout",
     "output_type": "stream",
     "text": [
      "Epoch 16/100 -> Train Loss: 0.160091, Val Loss: 0.156969\n",
      "    -> New best validation loss (0.156969). Saved best model checkpoint.\n"
     ]
    },
    {
     "name": "stderr",
     "output_type": "stream",
     "text": [
      "                                                                                      \r"
     ]
    },
    {
     "name": "stdout",
     "output_type": "stream",
     "text": [
      "Epoch 17/100 -> Train Loss: 0.155423, Val Loss: 0.152574\n",
      "    -> New best validation loss (0.152574). Saved best model checkpoint.\n"
     ]
    },
    {
     "name": "stderr",
     "output_type": "stream",
     "text": [
      "                                                                                      \r"
     ]
    },
    {
     "name": "stdout",
     "output_type": "stream",
     "text": [
      "Epoch 18/100 -> Train Loss: 0.151043, Val Loss: 0.148586\n",
      "    -> New best validation loss (0.148586). Saved best model checkpoint.\n"
     ]
    },
    {
     "name": "stderr",
     "output_type": "stream",
     "text": [
      "                                                                                      \r"
     ]
    },
    {
     "name": "stdout",
     "output_type": "stream",
     "text": [
      "Epoch 19/100 -> Train Loss: 0.147071, Val Loss: 0.144703\n",
      "    -> New best validation loss (0.144703). Saved best model checkpoint.\n"
     ]
    },
    {
     "name": "stderr",
     "output_type": "stream",
     "text": [
      "                                                                                      \r"
     ]
    },
    {
     "name": "stdout",
     "output_type": "stream",
     "text": [
      "Epoch 20/100 -> Train Loss: 0.143372, Val Loss: 0.140842\n",
      "    -> New best validation loss (0.140842). Saved best model checkpoint.\n"
     ]
    },
    {
     "name": "stderr",
     "output_type": "stream",
     "text": [
      "                                                                                      \r"
     ]
    },
    {
     "name": "stdout",
     "output_type": "stream",
     "text": [
      "Epoch 21/100 -> Train Loss: 0.139910, Val Loss: 0.137629\n",
      "    -> New best validation loss (0.137629). Saved best model checkpoint.\n"
     ]
    },
    {
     "name": "stderr",
     "output_type": "stream",
     "text": [
      "                                                                                      \r"
     ]
    },
    {
     "name": "stdout",
     "output_type": "stream",
     "text": [
      "Epoch 22/100 -> Train Loss: 0.136552, Val Loss: 0.134709\n",
      "    -> New best validation loss (0.134709). Saved best model checkpoint.\n"
     ]
    },
    {
     "name": "stderr",
     "output_type": "stream",
     "text": [
      "                                                                                      \r"
     ]
    },
    {
     "name": "stdout",
     "output_type": "stream",
     "text": [
      "Epoch 23/100 -> Train Loss: 0.133687, Val Loss: 0.132056\n",
      "    -> New best validation loss (0.132056). Saved best model checkpoint.\n"
     ]
    },
    {
     "name": "stderr",
     "output_type": "stream",
     "text": [
      "                                                                                      \r"
     ]
    },
    {
     "name": "stdout",
     "output_type": "stream",
     "text": [
      "Epoch 24/100 -> Train Loss: 0.131018, Val Loss: 0.129381\n",
      "    -> New best validation loss (0.129381). Saved best model checkpoint.\n"
     ]
    },
    {
     "name": "stderr",
     "output_type": "stream",
     "text": [
      "                                                                                      \r"
     ]
    },
    {
     "name": "stdout",
     "output_type": "stream",
     "text": [
      "Epoch 25/100 -> Train Loss: 0.128556, Val Loss: 0.127051\n",
      "    -> New best validation loss (0.127051). Saved best model checkpoint.\n"
     ]
    },
    {
     "name": "stderr",
     "output_type": "stream",
     "text": [
      "                                                                                      \r"
     ]
    },
    {
     "name": "stdout",
     "output_type": "stream",
     "text": [
      "Epoch 26/100 -> Train Loss: 0.126221, Val Loss: 0.125016\n",
      "    -> New best validation loss (0.125016). Saved best model checkpoint.\n"
     ]
    },
    {
     "name": "stderr",
     "output_type": "stream",
     "text": [
      "                                                                                      \r"
     ]
    },
    {
     "name": "stdout",
     "output_type": "stream",
     "text": [
      "Epoch 27/100 -> Train Loss: 0.124113, Val Loss: 0.122911\n",
      "    -> New best validation loss (0.122911). Saved best model checkpoint.\n"
     ]
    },
    {
     "name": "stderr",
     "output_type": "stream",
     "text": [
      "                                                                                      \r"
     ]
    },
    {
     "name": "stdout",
     "output_type": "stream",
     "text": [
      "Epoch 28/100 -> Train Loss: 0.122130, Val Loss: 0.120884\n",
      "    -> New best validation loss (0.120884). Saved best model checkpoint.\n"
     ]
    },
    {
     "name": "stderr",
     "output_type": "stream",
     "text": [
      "                                                                                      \r"
     ]
    },
    {
     "name": "stdout",
     "output_type": "stream",
     "text": [
      "Epoch 29/100 -> Train Loss: 0.120187, Val Loss: 0.119198\n",
      "    -> New best validation loss (0.119198). Saved best model checkpoint.\n"
     ]
    },
    {
     "name": "stderr",
     "output_type": "stream",
     "text": [
      "                                                                                      \r"
     ]
    },
    {
     "name": "stdout",
     "output_type": "stream",
     "text": [
      "Epoch 30/100 -> Train Loss: 0.118359, Val Loss: 0.117687\n",
      "    -> New best validation loss (0.117687). Saved best model checkpoint.\n"
     ]
    },
    {
     "name": "stderr",
     "output_type": "stream",
     "text": [
      "                                                                                      \r"
     ]
    },
    {
     "name": "stdout",
     "output_type": "stream",
     "text": [
      "Epoch 31/100 -> Train Loss: 0.116657, Val Loss: 0.115773\n",
      "    -> New best validation loss (0.115773). Saved best model checkpoint.\n"
     ]
    },
    {
     "name": "stderr",
     "output_type": "stream",
     "text": [
      "                                                                                      \r"
     ]
    },
    {
     "name": "stdout",
     "output_type": "stream",
     "text": [
      "Epoch 32/100 -> Train Loss: 0.114773, Val Loss: 0.114062\n",
      "    -> New best validation loss (0.114062). Saved best model checkpoint.\n"
     ]
    },
    {
     "name": "stderr",
     "output_type": "stream",
     "text": [
      "                                                                                      \r"
     ]
    },
    {
     "name": "stdout",
     "output_type": "stream",
     "text": [
      "Epoch 33/100 -> Train Loss: 0.113263, Val Loss: 0.112491\n",
      "    -> New best validation loss (0.112491). Saved best model checkpoint.\n"
     ]
    },
    {
     "name": "stderr",
     "output_type": "stream",
     "text": [
      "                                                                                      \r"
     ]
    },
    {
     "name": "stdout",
     "output_type": "stream",
     "text": [
      "Epoch 34/100 -> Train Loss: 0.111558, Val Loss: 0.110887\n",
      "    -> New best validation loss (0.110887). Saved best model checkpoint.\n"
     ]
    },
    {
     "name": "stderr",
     "output_type": "stream",
     "text": [
      "                                                                                      \r"
     ]
    },
    {
     "name": "stdout",
     "output_type": "stream",
     "text": [
      "Epoch 35/100 -> Train Loss: 0.109929, Val Loss: 0.109601\n",
      "    -> New best validation loss (0.109601). Saved best model checkpoint.\n"
     ]
    },
    {
     "name": "stderr",
     "output_type": "stream",
     "text": [
      "                                                                                      \r"
     ]
    },
    {
     "name": "stdout",
     "output_type": "stream",
     "text": [
      "Epoch 36/100 -> Train Loss: 0.108373, Val Loss: 0.107727\n",
      "    -> New best validation loss (0.107727). Saved best model checkpoint.\n"
     ]
    },
    {
     "name": "stderr",
     "output_type": "stream",
     "text": [
      "                                                                                      \r"
     ]
    },
    {
     "name": "stdout",
     "output_type": "stream",
     "text": [
      "Epoch 37/100 -> Train Loss: 0.106932, Val Loss: 0.106710\n",
      "    -> New best validation loss (0.106710). Saved best model checkpoint.\n"
     ]
    },
    {
     "name": "stderr",
     "output_type": "stream",
     "text": [
      "                                                                                      \r"
     ]
    },
    {
     "name": "stdout",
     "output_type": "stream",
     "text": [
      "Epoch 38/100 -> Train Loss: 0.105573, Val Loss: 0.105480\n",
      "    -> New best validation loss (0.105480). Saved best model checkpoint.\n"
     ]
    },
    {
     "name": "stderr",
     "output_type": "stream",
     "text": [
      "                                                                                      \r"
     ]
    },
    {
     "name": "stdout",
     "output_type": "stream",
     "text": [
      "Epoch 39/100 -> Train Loss: 0.104312, Val Loss: 0.103956\n",
      "    -> New best validation loss (0.103956). Saved best model checkpoint.\n"
     ]
    },
    {
     "name": "stderr",
     "output_type": "stream",
     "text": [
      "                                                                                      \r"
     ]
    },
    {
     "name": "stdout",
     "output_type": "stream",
     "text": [
      "Epoch 40/100 -> Train Loss: 0.103060, Val Loss: 0.102908\n",
      "    -> New best validation loss (0.102908). Saved best model checkpoint.\n"
     ]
    },
    {
     "name": "stderr",
     "output_type": "stream",
     "text": [
      "                                                                                      \r"
     ]
    },
    {
     "name": "stdout",
     "output_type": "stream",
     "text": [
      "Epoch 41/100 -> Train Loss: 0.102099, Val Loss: 0.101931\n",
      "    -> New best validation loss (0.101931). Saved best model checkpoint.\n"
     ]
    },
    {
     "name": "stderr",
     "output_type": "stream",
     "text": [
      "                                                                                      \r"
     ]
    },
    {
     "name": "stdout",
     "output_type": "stream",
     "text": [
      "Epoch 42/100 -> Train Loss: 0.100920, Val Loss: 0.100760\n",
      "    -> New best validation loss (0.100760). Saved best model checkpoint.\n"
     ]
    },
    {
     "name": "stderr",
     "output_type": "stream",
     "text": [
      "                                                                                      \r"
     ]
    },
    {
     "name": "stdout",
     "output_type": "stream",
     "text": [
      "Epoch 43/100 -> Train Loss: 0.099899, Val Loss: 0.099631\n",
      "    -> New best validation loss (0.099631). Saved best model checkpoint.\n"
     ]
    },
    {
     "name": "stderr",
     "output_type": "stream",
     "text": [
      "                                                                                      \r"
     ]
    },
    {
     "name": "stdout",
     "output_type": "stream",
     "text": [
      "Epoch 44/100 -> Train Loss: 0.098896, Val Loss: 0.098974\n",
      "    -> New best validation loss (0.098974). Saved best model checkpoint.\n"
     ]
    },
    {
     "name": "stderr",
     "output_type": "stream",
     "text": [
      "                                                                                      \r"
     ]
    },
    {
     "name": "stdout",
     "output_type": "stream",
     "text": [
      "Epoch 45/100 -> Train Loss: 0.097908, Val Loss: 0.097817\n",
      "    -> New best validation loss (0.097817). Saved best model checkpoint.\n"
     ]
    },
    {
     "name": "stderr",
     "output_type": "stream",
     "text": [
      "                                                                                      \r"
     ]
    },
    {
     "name": "stdout",
     "output_type": "stream",
     "text": [
      "Epoch 46/100 -> Train Loss: 0.096909, Val Loss: 0.097072\n",
      "    -> New best validation loss (0.097072). Saved best model checkpoint.\n"
     ]
    },
    {
     "name": "stderr",
     "output_type": "stream",
     "text": [
      "                                                                                      \r"
     ]
    },
    {
     "name": "stdout",
     "output_type": "stream",
     "text": [
      "Epoch 47/100 -> Train Loss: 0.096166, Val Loss: 0.095806\n",
      "    -> New best validation loss (0.095806). Saved best model checkpoint.\n"
     ]
    },
    {
     "name": "stderr",
     "output_type": "stream",
     "text": [
      "                                                                                      \r"
     ]
    },
    {
     "name": "stdout",
     "output_type": "stream",
     "text": [
      "Epoch 48/100 -> Train Loss: 0.095182, Val Loss: 0.095056\n",
      "    -> New best validation loss (0.095056). Saved best model checkpoint.\n"
     ]
    },
    {
     "name": "stderr",
     "output_type": "stream",
     "text": [
      "                                                                                      \r"
     ]
    },
    {
     "name": "stdout",
     "output_type": "stream",
     "text": [
      "Epoch 49/100 -> Train Loss: 0.094312, Val Loss: 0.094217\n",
      "    -> New best validation loss (0.094217). Saved best model checkpoint.\n"
     ]
    },
    {
     "name": "stderr",
     "output_type": "stream",
     "text": [
      "                                                                                      \r"
     ]
    },
    {
     "name": "stdout",
     "output_type": "stream",
     "text": [
      "Epoch 50/100 -> Train Loss: 0.093481, Val Loss: 0.093261\n",
      "    -> New best validation loss (0.093261). Saved best model checkpoint.\n"
     ]
    },
    {
     "name": "stderr",
     "output_type": "stream",
     "text": [
      "                                                                                      \r"
     ]
    },
    {
     "name": "stdout",
     "output_type": "stream",
     "text": [
      "Epoch 51/100 -> Train Loss: 0.092624, Val Loss: 0.092408\n",
      "    -> New best validation loss (0.092408). Saved best model checkpoint.\n"
     ]
    },
    {
     "name": "stderr",
     "output_type": "stream",
     "text": [
      "                                                                                      \r"
     ]
    },
    {
     "name": "stdout",
     "output_type": "stream",
     "text": [
      "Epoch 52/100 -> Train Loss: 0.091744, Val Loss: 0.091873\n",
      "    -> New best validation loss (0.091873). Saved best model checkpoint.\n"
     ]
    },
    {
     "name": "stderr",
     "output_type": "stream",
     "text": [
      "                                                                                      \r"
     ]
    },
    {
     "name": "stdout",
     "output_type": "stream",
     "text": [
      "Epoch 53/100 -> Train Loss: 0.090969, Val Loss: 0.090995\n",
      "    -> New best validation loss (0.090995). Saved best model checkpoint.\n"
     ]
    },
    {
     "name": "stderr",
     "output_type": "stream",
     "text": [
      "                                                                                      \r"
     ]
    },
    {
     "name": "stdout",
     "output_type": "stream",
     "text": [
      "Epoch 54/100 -> Train Loss: 0.090121, Val Loss: 0.090242\n",
      "    -> New best validation loss (0.090242). Saved best model checkpoint.\n"
     ]
    },
    {
     "name": "stderr",
     "output_type": "stream",
     "text": [
      "                                                                                      \r"
     ]
    },
    {
     "name": "stdout",
     "output_type": "stream",
     "text": [
      "Epoch 55/100 -> Train Loss: 0.089478, Val Loss: 0.089455\n",
      "    -> New best validation loss (0.089455). Saved best model checkpoint.\n"
     ]
    },
    {
     "name": "stderr",
     "output_type": "stream",
     "text": [
      "                                                                                      \r"
     ]
    },
    {
     "name": "stdout",
     "output_type": "stream",
     "text": [
      "Epoch 56/100 -> Train Loss: 0.088681, Val Loss: 0.088722\n",
      "    -> New best validation loss (0.088722). Saved best model checkpoint.\n"
     ]
    },
    {
     "name": "stderr",
     "output_type": "stream",
     "text": [
      "                                                                                      \r"
     ]
    },
    {
     "name": "stdout",
     "output_type": "stream",
     "text": [
      "Epoch 57/100 -> Train Loss: 0.087891, Val Loss: 0.087930\n",
      "    -> New best validation loss (0.087930). Saved best model checkpoint.\n"
     ]
    },
    {
     "name": "stderr",
     "output_type": "stream",
     "text": [
      "                                                                                      \r"
     ]
    },
    {
     "name": "stdout",
     "output_type": "stream",
     "text": [
      "Epoch 58/100 -> Train Loss: 0.087254, Val Loss: 0.087358\n",
      "    -> New best validation loss (0.087358). Saved best model checkpoint.\n"
     ]
    },
    {
     "name": "stderr",
     "output_type": "stream",
     "text": [
      "                                                                                      \r"
     ]
    },
    {
     "name": "stdout",
     "output_type": "stream",
     "text": [
      "Epoch 59/100 -> Train Loss: 0.086567, Val Loss: 0.086774\n",
      "    -> New best validation loss (0.086774). Saved best model checkpoint.\n"
     ]
    },
    {
     "name": "stderr",
     "output_type": "stream",
     "text": [
      "                                                                                      \r"
     ]
    },
    {
     "name": "stdout",
     "output_type": "stream",
     "text": [
      "Epoch 60/100 -> Train Loss: 0.085958, Val Loss: 0.086275\n",
      "    -> New best validation loss (0.086275). Saved best model checkpoint.\n"
     ]
    },
    {
     "name": "stderr",
     "output_type": "stream",
     "text": [
      "                                                                                      \r"
     ]
    },
    {
     "name": "stdout",
     "output_type": "stream",
     "text": [
      "Epoch 61/100 -> Train Loss: 0.085309, Val Loss: 0.085559\n",
      "    -> New best validation loss (0.085559). Saved best model checkpoint.\n"
     ]
    },
    {
     "name": "stderr",
     "output_type": "stream",
     "text": [
      "                                                                                      \r"
     ]
    },
    {
     "name": "stdout",
     "output_type": "stream",
     "text": [
      "Epoch 62/100 -> Train Loss: 0.084785, Val Loss: 0.084904\n",
      "    -> New best validation loss (0.084904). Saved best model checkpoint.\n"
     ]
    },
    {
     "name": "stderr",
     "output_type": "stream",
     "text": [
      "                                                                                      \r"
     ]
    },
    {
     "name": "stdout",
     "output_type": "stream",
     "text": [
      "Epoch 63/100 -> Train Loss: 0.084141, Val Loss: 0.084383\n",
      "    -> New best validation loss (0.084383). Saved best model checkpoint.\n"
     ]
    },
    {
     "name": "stderr",
     "output_type": "stream",
     "text": [
      "                                                                                      \r"
     ]
    },
    {
     "name": "stdout",
     "output_type": "stream",
     "text": [
      "Epoch 64/100 -> Train Loss: 0.083663, Val Loss: 0.083909\n",
      "    -> New best validation loss (0.083909). Saved best model checkpoint.\n"
     ]
    },
    {
     "name": "stderr",
     "output_type": "stream",
     "text": [
      "                                                                                      \r"
     ]
    },
    {
     "name": "stdout",
     "output_type": "stream",
     "text": [
      "Epoch 65/100 -> Train Loss: 0.083082, Val Loss: 0.083355\n",
      "    -> New best validation loss (0.083355). Saved best model checkpoint.\n"
     ]
    },
    {
     "name": "stderr",
     "output_type": "stream",
     "text": [
      "                                                                                      \r"
     ]
    },
    {
     "name": "stdout",
     "output_type": "stream",
     "text": [
      "Epoch 66/100 -> Train Loss: 0.082560, Val Loss: 0.082752\n",
      "    -> New best validation loss (0.082752). Saved best model checkpoint.\n"
     ]
    },
    {
     "name": "stderr",
     "output_type": "stream",
     "text": [
      "                                                                                      \r"
     ]
    },
    {
     "name": "stdout",
     "output_type": "stream",
     "text": [
      "Epoch 67/100 -> Train Loss: 0.082044, Val Loss: 0.082281\n",
      "    -> New best validation loss (0.082281). Saved best model checkpoint.\n"
     ]
    },
    {
     "name": "stderr",
     "output_type": "stream",
     "text": [
      "                                                                                      \r"
     ]
    },
    {
     "name": "stdout",
     "output_type": "stream",
     "text": [
      "Epoch 68/100 -> Train Loss: 0.081538, Val Loss: 0.081721\n",
      "    -> New best validation loss (0.081721). Saved best model checkpoint.\n"
     ]
    },
    {
     "name": "stderr",
     "output_type": "stream",
     "text": [
      "                                                                                      \r"
     ]
    },
    {
     "name": "stdout",
     "output_type": "stream",
     "text": [
      "Epoch 69/100 -> Train Loss: 0.081023, Val Loss: 0.081084\n",
      "    -> New best validation loss (0.081084). Saved best model checkpoint.\n"
     ]
    },
    {
     "name": "stderr",
     "output_type": "stream",
     "text": [
      "                                                                                      \r"
     ]
    },
    {
     "name": "stdout",
     "output_type": "stream",
     "text": [
      "Epoch 70/100 -> Train Loss: 0.080412, Val Loss: 0.080699\n",
      "    -> New best validation loss (0.080699). Saved best model checkpoint.\n"
     ]
    },
    {
     "name": "stderr",
     "output_type": "stream",
     "text": [
      "                                                                                      \r"
     ]
    },
    {
     "name": "stdout",
     "output_type": "stream",
     "text": [
      "Epoch 71/100 -> Train Loss: 0.080041, Val Loss: 0.080347\n",
      "    -> New best validation loss (0.080347). Saved best model checkpoint.\n"
     ]
    },
    {
     "name": "stderr",
     "output_type": "stream",
     "text": [
      "                                                                                      \r"
     ]
    },
    {
     "name": "stdout",
     "output_type": "stream",
     "text": [
      "Epoch 72/100 -> Train Loss: 0.079526, Val Loss: 0.079561\n",
      "    -> New best validation loss (0.079561). Saved best model checkpoint.\n"
     ]
    },
    {
     "name": "stderr",
     "output_type": "stream",
     "text": [
      "                                                                                      \r"
     ]
    },
    {
     "name": "stdout",
     "output_type": "stream",
     "text": [
      "Epoch 73/100 -> Train Loss: 0.079064, Val Loss: 0.079322\n",
      "    -> New best validation loss (0.079322). Saved best model checkpoint.\n"
     ]
    },
    {
     "name": "stderr",
     "output_type": "stream",
     "text": [
      "                                                                                      \r"
     ]
    },
    {
     "name": "stdout",
     "output_type": "stream",
     "text": [
      "Epoch 74/100 -> Train Loss: 0.078592, Val Loss: 0.078802\n",
      "    -> New best validation loss (0.078802). Saved best model checkpoint.\n"
     ]
    },
    {
     "name": "stderr",
     "output_type": "stream",
     "text": [
      "                                                                                      \r"
     ]
    },
    {
     "name": "stdout",
     "output_type": "stream",
     "text": [
      "Epoch 75/100 -> Train Loss: 0.078162, Val Loss: 0.078161\n",
      "    -> New best validation loss (0.078161). Saved best model checkpoint.\n"
     ]
    },
    {
     "name": "stderr",
     "output_type": "stream",
     "text": [
      "                                                                                      \r"
     ]
    },
    {
     "name": "stdout",
     "output_type": "stream",
     "text": [
      "Epoch 76/100 -> Train Loss: 0.077735, Val Loss: 0.077891\n",
      "    -> New best validation loss (0.077891). Saved best model checkpoint.\n"
     ]
    },
    {
     "name": "stderr",
     "output_type": "stream",
     "text": [
      "                                                                                      \r"
     ]
    },
    {
     "name": "stdout",
     "output_type": "stream",
     "text": [
      "Epoch 77/100 -> Train Loss: 0.077291, Val Loss: 0.077456\n",
      "    -> New best validation loss (0.077456). Saved best model checkpoint.\n"
     ]
    },
    {
     "name": "stderr",
     "output_type": "stream",
     "text": [
      "                                                                                      \r"
     ]
    },
    {
     "name": "stdout",
     "output_type": "stream",
     "text": [
      "Epoch 78/100 -> Train Loss: 0.076852, Val Loss: 0.077214\n",
      "    -> New best validation loss (0.077214). Saved best model checkpoint.\n"
     ]
    },
    {
     "name": "stderr",
     "output_type": "stream",
     "text": [
      "                                                                                      \r"
     ]
    },
    {
     "name": "stdout",
     "output_type": "stream",
     "text": [
      "Epoch 79/100 -> Train Loss: 0.076413, Val Loss: 0.076557\n",
      "    -> New best validation loss (0.076557). Saved best model checkpoint.\n"
     ]
    },
    {
     "name": "stderr",
     "output_type": "stream",
     "text": [
      "                                                                                      \r"
     ]
    },
    {
     "name": "stdout",
     "output_type": "stream",
     "text": [
      "Epoch 80/100 -> Train Loss: 0.075992, Val Loss: 0.076251\n",
      "    -> New best validation loss (0.076251). Saved best model checkpoint.\n"
     ]
    },
    {
     "name": "stderr",
     "output_type": "stream",
     "text": [
      "                                                                                      \r"
     ]
    },
    {
     "name": "stdout",
     "output_type": "stream",
     "text": [
      "Epoch 81/100 -> Train Loss: 0.075647, Val Loss: 0.075917\n",
      "    -> New best validation loss (0.075917). Saved best model checkpoint.\n"
     ]
    },
    {
     "name": "stderr",
     "output_type": "stream",
     "text": [
      "                                                                                      \r"
     ]
    },
    {
     "name": "stdout",
     "output_type": "stream",
     "text": [
      "Epoch 82/100 -> Train Loss: 0.075234, Val Loss: 0.075451\n",
      "    -> New best validation loss (0.075451). Saved best model checkpoint.\n"
     ]
    },
    {
     "name": "stderr",
     "output_type": "stream",
     "text": [
      "                                                                                      \r"
     ]
    },
    {
     "name": "stdout",
     "output_type": "stream",
     "text": [
      "Epoch 83/100 -> Train Loss: 0.074851, Val Loss: 0.075073\n",
      "    -> New best validation loss (0.075073). Saved best model checkpoint.\n"
     ]
    },
    {
     "name": "stderr",
     "output_type": "stream",
     "text": [
      "                                                                                      \r"
     ]
    },
    {
     "name": "stdout",
     "output_type": "stream",
     "text": [
      "Epoch 84/100 -> Train Loss: 0.074479, Val Loss: 0.074836\n",
      "    -> New best validation loss (0.074836). Saved best model checkpoint.\n"
     ]
    },
    {
     "name": "stderr",
     "output_type": "stream",
     "text": [
      "                                                                                      \r"
     ]
    },
    {
     "name": "stdout",
     "output_type": "stream",
     "text": [
      "Epoch 85/100 -> Train Loss: 0.074055, Val Loss: 0.074463\n",
      "    -> New best validation loss (0.074463). Saved best model checkpoint.\n"
     ]
    },
    {
     "name": "stderr",
     "output_type": "stream",
     "text": [
      "                                                                                      \r"
     ]
    },
    {
     "name": "stdout",
     "output_type": "stream",
     "text": [
      "Epoch 86/100 -> Train Loss: 0.073657, Val Loss: 0.073834\n",
      "    -> New best validation loss (0.073834). Saved best model checkpoint.\n"
     ]
    },
    {
     "name": "stderr",
     "output_type": "stream",
     "text": [
      "                                                                                      \r"
     ]
    },
    {
     "name": "stdout",
     "output_type": "stream",
     "text": [
      "Epoch 87/100 -> Train Loss: 0.073346, Val Loss: 0.073437\n",
      "    -> New best validation loss (0.073437). Saved best model checkpoint.\n"
     ]
    },
    {
     "name": "stderr",
     "output_type": "stream",
     "text": [
      "                                                                                      \r"
     ]
    },
    {
     "name": "stdout",
     "output_type": "stream",
     "text": [
      "Epoch 88/100 -> Train Loss: 0.072919, Val Loss: 0.073091\n",
      "    -> New best validation loss (0.073091). Saved best model checkpoint.\n"
     ]
    },
    {
     "name": "stderr",
     "output_type": "stream",
     "text": [
      "                                                                                      \r"
     ]
    },
    {
     "name": "stdout",
     "output_type": "stream",
     "text": [
      "Epoch 89/100 -> Train Loss: 0.072626, Val Loss: 0.072684\n",
      "    -> New best validation loss (0.072684). Saved best model checkpoint.\n"
     ]
    },
    {
     "name": "stderr",
     "output_type": "stream",
     "text": [
      "                                                                                      \r"
     ]
    },
    {
     "name": "stdout",
     "output_type": "stream",
     "text": [
      "Epoch 90/100 -> Train Loss: 0.072215, Val Loss: 0.072618\n",
      "    -> New best validation loss (0.072618). Saved best model checkpoint.\n"
     ]
    },
    {
     "name": "stderr",
     "output_type": "stream",
     "text": [
      "                                                                                      \r"
     ]
    },
    {
     "name": "stdout",
     "output_type": "stream",
     "text": [
      "Epoch 91/100 -> Train Loss: 0.071796, Val Loss: 0.072186\n",
      "    -> New best validation loss (0.072186). Saved best model checkpoint.\n"
     ]
    },
    {
     "name": "stderr",
     "output_type": "stream",
     "text": [
      "                                                                                      \r"
     ]
    },
    {
     "name": "stdout",
     "output_type": "stream",
     "text": [
      "Epoch 92/100 -> Train Loss: 0.071567, Val Loss: 0.071717\n",
      "    -> New best validation loss (0.071717). Saved best model checkpoint.\n"
     ]
    },
    {
     "name": "stderr",
     "output_type": "stream",
     "text": [
      "                                                                                      \r"
     ]
    },
    {
     "name": "stdout",
     "output_type": "stream",
     "text": [
      "Epoch 93/100 -> Train Loss: 0.071241, Val Loss: 0.071380\n",
      "    -> New best validation loss (0.071380). Saved best model checkpoint.\n"
     ]
    },
    {
     "name": "stderr",
     "output_type": "stream",
     "text": [
      "                                                                                      \r"
     ]
    },
    {
     "name": "stdout",
     "output_type": "stream",
     "text": [
      "Epoch 94/100 -> Train Loss: 0.070861, Val Loss: 0.070995\n",
      "    -> New best validation loss (0.070995). Saved best model checkpoint.\n"
     ]
    },
    {
     "name": "stderr",
     "output_type": "stream",
     "text": [
      "                                                                                      \r"
     ]
    },
    {
     "name": "stdout",
     "output_type": "stream",
     "text": [
      "Epoch 95/100 -> Train Loss: 0.070592, Val Loss: 0.070839\n",
      "    -> New best validation loss (0.070839). Saved best model checkpoint.\n"
     ]
    },
    {
     "name": "stderr",
     "output_type": "stream",
     "text": [
      "                                                                                      \r"
     ]
    },
    {
     "name": "stdout",
     "output_type": "stream",
     "text": [
      "Epoch 96/100 -> Train Loss: 0.070297, Val Loss: 0.070351\n",
      "    -> New best validation loss (0.070351). Saved best model checkpoint.\n"
     ]
    },
    {
     "name": "stderr",
     "output_type": "stream",
     "text": [
      "                                                                                      \r"
     ]
    },
    {
     "name": "stdout",
     "output_type": "stream",
     "text": [
      "Epoch 97/100 -> Train Loss: 0.069961, Val Loss: 0.070480\n"
     ]
    },
    {
     "name": "stderr",
     "output_type": "stream",
     "text": [
      "                                                                                      \r"
     ]
    },
    {
     "name": "stdout",
     "output_type": "stream",
     "text": [
      "Epoch 98/100 -> Train Loss: 0.069587, Val Loss: 0.069839\n",
      "    -> New best validation loss (0.069839). Saved best model checkpoint.\n"
     ]
    },
    {
     "name": "stderr",
     "output_type": "stream",
     "text": [
      "                                                                                      \r"
     ]
    },
    {
     "name": "stdout",
     "output_type": "stream",
     "text": [
      "Epoch 99/100 -> Train Loss: 0.069368, Val Loss: 0.069542\n",
      "    -> New best validation loss (0.069542). Saved best model checkpoint.\n"
     ]
    },
    {
     "name": "stderr",
     "output_type": "stream",
     "text": [
      "                                                                                       "
     ]
    },
    {
     "name": "stdout",
     "output_type": "stream",
     "text": [
      "Epoch 100/100 -> Train Loss: 0.069058, Val Loss: 0.069141\n",
      "    -> New best validation loss (0.069141). Saved best model checkpoint.\n",
      "Training finished. Final model saved to model_saves/autoencoder\\pose_ae_final.pth\n",
      "Best validation loss achieved: 0.069141 (Model saved to model_saves/autoencoder\\pose_ae_best.pth)\n"
     ]
    },
    {
     "name": "stderr",
     "output_type": "stream",
     "text": [
      "\r"
     ]
    },
    {
     "ename": "",
     "evalue": "",
     "output_type": "error",
     "traceback": [
      "\u001b[1;31mThe Kernel crashed while executing code in the current cell or a previous cell. \n",
      "\u001b[1;31mPlease review the code in the cell(s) to identify a possible cause of the failure. \n",
      "\u001b[1;31mClick <a href='https://aka.ms/vscodeJupyterKernelCrash'>here</a> for more info. \n",
      "\u001b[1;31mView Jupyter <a href='command:jupyter.viewOutput'>log</a> for further details."
     ]
    }
   ],
   "source": [
    "\n",
    "# --- Training Setup ---\n",
    "model = Autoencoder(POSE_FEATURES_DIM, LATENT_DIM).to(device)\n",
    "optimizer = optim.AdamW(model.parameters(), lr=LEARNING_RATE, weight_decay=WEIGHT_DECAY)\n",
    "criterion = nn.MSELoss() # Reconstruction loss\n",
    "\n",
    "# Create Datasets and DataLoaders\n",
    "try:\n",
    "    train_dataset = PoseDatasetAE(DATA_DIR, TRAIN_SETTING, NORMALIZATION_STATS_PATH, use_percentage=USE_PERCENTAGE)\n",
    "    val_dataset = PoseDatasetAE(DATA_DIR, VAL_SETTING, NORMALIZATION_STATS_PATH, use_percentage=USE_PERCENTAGE) # Use same percentage for val? Or 1.0?\n",
    "except (FileNotFoundError, ValueError) as e:\n",
    "    print(f\"Error creating datasets: {e}\")\n",
    "    sys.exit(1)\n",
    "\n",
    "# Use num_workers > 0 for faster data loading if not on Windows/debugging\n",
    "# Set persistent_workers=True if using num_workers > 0 for efficiency between epochs\n",
    "train_loader = DataLoader(train_dataset, batch_size=BATCH_SIZE, shuffle=True, collate_fn=collate_ae, num_workers=0, pin_memory=True)\n",
    "val_loader = DataLoader(val_dataset, batch_size=BATCH_SIZE, shuffle=False, collate_fn=collate_ae, num_workers=0, pin_memory=True)\n",
    "\n",
    "\n",
    "# --- Training Loop ---\n",
    "print(\"Starting Autoencoder Training...\")\n",
    "best_val_loss = float('inf')\n",
    "\n",
    "for epoch in range(EPOCHS):\n",
    "    # --- Training Phase ---\n",
    "    model.train()\n",
    "    total_train_loss = 0.0\n",
    "    num_train_batches = 0\n",
    "    pbar_train = tqdm(train_loader, desc=f\"Epoch {epoch+1}/{EPOCHS} [Train]\", leave=False)\n",
    "\n",
    "    for batch_frames in pbar_train:\n",
    "        if batch_frames is None: continue # Skip empty batches\n",
    "\n",
    "        batch_frames = batch_frames.to(device, non_blocking=True) # Use non_blocking with pin_memory\n",
    "        num_train_batches += 1\n",
    "\n",
    "        reconstructions = model(batch_frames)\n",
    "        loss = criterion(reconstructions, batch_frames)\n",
    "\n",
    "        optimizer.zero_grad()\n",
    "        loss.backward()\n",
    "        optimizer.step()\n",
    "\n",
    "        total_train_loss += loss.item()\n",
    "        pbar_train.set_postfix({\"Loss\": f\"{loss.item():.6f}\"})\n",
    "\n",
    "    avg_train_loss = total_train_loss / num_train_batches if num_train_batches > 0 else 0\n",
    "\n",
    "    # --- Validation Phase ---\n",
    "    model.eval()\n",
    "    total_val_loss = 0.0\n",
    "    num_val_batches = 0\n",
    "    pbar_val = tqdm(val_loader, desc=f\"Epoch {epoch+1}/{EPOCHS} [Val]\", leave=False)\n",
    "\n",
    "    with torch.no_grad():\n",
    "        for batch_frames in pbar_val:\n",
    "            if batch_frames is None: continue # Skip empty batches\n",
    "\n",
    "            batch_frames = batch_frames.to(device, non_blocking=True)\n",
    "            num_val_batches += 1\n",
    "\n",
    "            reconstructions = model(batch_frames)\n",
    "            loss = criterion(reconstructions, batch_frames) # Use same MSE loss\n",
    "\n",
    "            total_val_loss += loss.item()\n",
    "            pbar_val.set_postfix({\"Loss\": f\"{loss.item():.6f}\"})\n",
    "\n",
    "    avg_val_loss = total_val_loss / num_val_batches if num_val_batches > 0 else float('inf')\n",
    "\n",
    "    print(f\"Epoch {epoch+1}/{EPOCHS} -> Train Loss: {avg_train_loss:.6f}, Val Loss: {avg_val_loss:.6f}\")\n",
    "\n",
    "    # --- Save Model Checkpoints ---\n",
    "    # Save based on best validation loss\n",
    "    if avg_val_loss < best_val_loss:\n",
    "        best_val_loss = avg_val_loss\n",
    "        torch.save({\n",
    "            'epoch': epoch + 1,\n",
    "            'model_state_dict': model.state_dict(),\n",
    "            'optimizer_state_dict': optimizer.state_dict(),\n",
    "            'loss': best_val_loss,\n",
    "            'input_dim': POSE_FEATURES_DIM,\n",
    "            'latent_dim': LATENT_DIM,\n",
    "        }, BEST_MODEL_SAVE_PATH)\n",
    "        print(f\"    -> New best validation loss ({best_val_loss:.6f}). Saved best model checkpoint.\")\n",
    "\n",
    "    # Optional: Save periodic checkpoints regardless of validation loss\n",
    "    # if (epoch + 1) % 10 == 0:\n",
    "    #      periodic_path = f\"{PERIODIC_SAVE_PREFIX}{epoch+1}.pth\"\n",
    "    #      torch.save({\n",
    "    #          'epoch': epoch + 1,\n",
    "    #          'model_state_dict': model.state_dict(),\n",
    "    #          'input_dim': POSE_FEATURES_DIM,\n",
    "    #          'latent_dim': LATENT_DIM,\n",
    "    #      }, periodic_path)\n",
    "    #      print(f\"    -> Saved periodic checkpoint to {periodic_path}\")\n",
    "\n",
    "\n",
    "# --- Save Final Model ---\n",
    "torch.save({\n",
    "    'model_state_dict': model.state_dict(),\n",
    "    'input_dim': POSE_FEATURES_DIM,\n",
    "    'latent_dim': LATENT_DIM,\n",
    " }, FINAL_MODEL_SAVE_PATH)\n",
    "print(f\"Training finished. Final model saved to {FINAL_MODEL_SAVE_PATH}\")\n",
    "print(f\"Best validation loss achieved: {best_val_loss:.6f} (Model saved to {BEST_MODEL_SAVE_PATH})\")"
   ]
  }
 ],
 "metadata": {
  "kernelspec": {
   "display_name": "machine_learning",
   "language": "python",
   "name": "python3"
  },
  "language_info": {
   "codemirror_mode": {
    "name": "ipython",
    "version": 3
   },
   "file_extension": ".py",
   "mimetype": "text/x-python",
   "name": "python",
   "nbconvert_exporter": "python",
   "pygments_lexer": "ipython3",
   "version": "3.9.21"
  }
 },
 "nbformat": 4,
 "nbformat_minor": 5
}
